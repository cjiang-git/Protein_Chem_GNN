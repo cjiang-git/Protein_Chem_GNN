{
 "cells": [
  {
   "cell_type": "code",
   "execution_count": null,
   "metadata": {},
   "outputs": [],
   "source": [
    "import pandas as pd\n",
    "import numpy as np\n",
    "import torch\n",
    "import os \n",
    "import sys\n",
    "from Bio import SeqIO\n",
    "from esm.models.esm3 import ESM3\n",
    "from esm.sdk.api import ESMProtein, SamplingConfig\n",
    "from esm.utils.constants.models import ESM3_OPEN_SMALL\n",
    "from torch_geometric.data import Dataset\n",
    "from tqdm import tqdm\n",
    "from huggingface_hub import login\n",
    "import torch, gc\n",
    "import pickle\n",
    "import matplotlib\n",
    "\n",
    "\n",
    "\n",
    "class StringDB_Dataset(Dataset):\n",
    "    # esm_model must end in .pt for local model.\n",
    "    def __init__(self,data_path,fasta_path,esm_model='ESM3_OPEN_SMALL'):\n",
    "        self.data_path = data_path\n",
    "        self.fasta_path = fasta_path\n",
    "        self.esm_model = esm_model\n",
    "        self.data_cols = self.get_column_names()\n",
    "        '''\n",
    "        self.data = self.data.dropna()\n",
    "        self.data = self.data.reset_index(drop=True)\n",
    "        self.data = self.data.drop_duplicates()\n",
    "        self.data = self.data.reset_index(drop=True)\n",
    "        self.data = self.data.drop(columns=['Unnamed: 0'])\n",
    "        '''\n",
    "    \n",
    "    def get_column_names(self):\n",
    "        if os.path.exists(self.data_path):\n",
    "            with open(self.data_path) as f:\n",
    "                return f.readline().strip().split('\\t')\n",
    "        else:\n",
    "            Exception('File not found, check filepath')\n",
    "\n",
    "    \n",
    "    def get_esm_embeddings(self,out_dir):\n",
    "        client = ESM3.from_pretrained(self.esm_model)\n",
    "        with open(self.fasta_path) as handle:\n",
    "            iter = 0\n",
    "            curr_seq = 0\n",
    "            for record in tqdm(SeqIO.parse(handle, \"fasta\")):\n",
    "                label = record.id\n",
    "                if not os.path.exists(out_dir):\n",
    "                    os.makedirs(out_dir)\n",
    "                output_file = os.path.join(out_dir,f\"{label}.pt\")\n",
    "                if len(record.seq) > 1024:\n",
    "                    if len(record.seq) > 4096:\n",
    "                        continue\n",
    "                    seq = record.seq[:1024]\n",
    "                else:\n",
    "                    seq = record.seq\n",
    "                \n",
    "                #if iter % 5 == 0:\n",
    "                curr_seq += len(str(seq))\n",
    "                if curr_seq > 4096*2:\n",
    "                    torch.cuda.empty_cache()\n",
    "                    gc.collect()\n",
    "                    curr_seq = len(str(seq))\n",
    "\n",
    "                protein = ESMProtein(sequence=(str(seq)))\n",
    "                protein_tensor = client.encode(protein)\n",
    "                \n",
    "                #f = open(\"debug.txt\", \"a\")\n",
    "                #f.write(f\"iter: {iter},{len(str(seq))}\\n\")\n",
    "                #f.close()\n",
    "\n",
    "                output = client.forward_and_sample(protein_tensor, SamplingConfig(return_mean_embedding=True)).mean_embedding.detach().cpu().numpy()\n",
    "                result = {\"label\": record.id, \"embeddings\": output}\n",
    "                \n",
    "\n",
    "                torch.save(result,output_file)\n",
    "\n",
    "\n",
    "    def load_data(self,data_path):\n",
    "        if os.path.exists(data_path):\n",
    "            data = pd.read_csv(data_path)\n",
    "            return data"
   ]
  },
  {
   "cell_type": "code",
   "execution_count": 38,
   "metadata": {},
   "outputs": [],
   "source": [
    "path = '/mnt/d/data/stitchdb.txt'\n",
    "fasta_path = '/mnt/d/data/stringdb_seq_human.fa'\n",
    "local_model = '/mnt/d/data/esm3_sm_open_v1.pt'\n",
    "out_dir = '/mnt/d/data/stringdb_embeddings'\n",
    "data = StringDB_Dataset(path,fasta_path,esm_model='esm3_sm_open_v1')\n",
    "#data.get_esm_embeddings(out_dir)"
   ]
  },
  {
   "cell_type": "code",
   "execution_count": 44,
   "metadata": {},
   "outputs": [
    {
     "data": {
      "text/plain": [
       "19626"
      ]
     },
     "execution_count": 44,
     "metadata": {},
     "output_type": "execute_result"
    }
   ],
   "source": [
    "len(os.listdir(out_dir))"
   ]
  },
  {
   "cell_type": "code",
   "execution_count": 39,
   "metadata": {},
   "outputs": [
    {
     "data": {
      "text/plain": [
       "0          current string length: 429\n",
       "1          current string length: 203\n",
       "2         current string length: 1140\n",
       "3          current string length: 650\n",
       "4          current string length: 579\n",
       "                     ...             \n",
       "42459                             385\n",
       "42460                             166\n",
       "42461                            1024\n",
       "42462                             411\n",
       "42463                            1024\n",
       "Name: len, Length: 42464, dtype: object"
      ]
     },
     "execution_count": 39,
     "metadata": {},
     "output_type": "execute_result"
    }
   ],
   "source": [
    "pd.read_csv('./debug.txt',names=['iter','len'])['len']"
   ]
  },
  {
   "cell_type": "code",
   "execution_count": 40,
   "metadata": {},
   "outputs": [
    {
     "name": "stdout",
     "output_type": "stream",
     "text": [
      "chemical\tprotein\texperimental_direct\texperimental_transferred\tprediction_direct\tprediction_transferred\tdatabase_direct\tdatabase_transferred\ttextmining_direct\ttextmining_transferred\tcombined_score\n",
      "CIDm91758680\t190486.XAC0787\t0\t0\t0\t0\t0\t0\t0\t161\t161\n",
      "CIDm91758680\t190486.XAC0788\t0\t0\t0\t0\t0\t0\t0\t187\t187\n",
      "CIDm91758680\t190486.XAC1728\t0\t0\t0\t0\t0\t0\t0\t161\t161\n",
      "CIDm91758680\t190486.XAC1855\t0\t0\t0\t0\t0\t0\t0\t210\t210\n",
      "CIDm91758680\t190486.XAC2361\t0\t0\t0\t0\t0\t0\t0\t161\t161\n",
      "CIDm91758680\t190486.XAC2462\t0\t0\t0\t0\t0\t0\t0\t173\t173\n",
      "CIDm91758680\t190486.XAC2928\t0\t0\t0\t0\t0\t0\t0\t161\t161\n",
      "CIDm91758680\t190486.XAC3041\t0\t0\t0\t0\t0\t0\t0\t161\t161\n",
      "CIDm91758680\t190486.XAC3368\t0\t0\t0\t0\t0\t0\t0\t161\t161\n"
     ]
    }
   ],
   "source": [
    "with open(path, 'r') as file:\n",
    "    for _ in range(10):\n",
    "        print(file.readline().strip())"
   ]
  },
  {
   "cell_type": "code",
   "execution_count": 43,
   "metadata": {},
   "outputs": [
    {
     "name": "stdout",
     "output_type": "stream",
     "text": [
      "1477610\n",
      "18767\n",
      "Number of matched proteins: 18694\n"
     ]
    }
   ],
   "source": [
    "path = '/mnt/d/data/stringdb_human.txt'\n",
    "humanstringdf = pd.read_csv(path,sep=' ')\n",
    "print(len(humanstringdf))\n",
    "unique_proteins = humanstringdf['protein1'].unique()\n",
    "unique_proteins2 = humanstringdf['protein2'].unique()\n",
    "unique_proteins_all = np.unique(np.concatenate((unique_proteins,unique_proteins2)))\n",
    "print(len(unique_proteins_all))\n",
    "\n",
    "matched_proteins = set()\n",
    "for protein in unique_proteins_all:\n",
    "    if os.path.exists(os.path.join(out_dir, f\"{protein}.pt\")):\n",
    "        matched_proteins.add(protein)\n",
    "\n",
    "print(f\"Number of matched proteins: {len(matched_proteins)}\")"
   ]
  },
  {
   "cell_type": "code",
   "execution_count": null,
   "metadata": {},
   "outputs": [
    {
     "name": "stdout",
     "output_type": "stream",
     "text": [
      "currently at iteration: 10000\r"
     ]
    }
   ],
   "source": [
    "len_dict = {}\n",
    "iter = 0\n",
    "with open(fasta_path) as handle:\n",
    "    for i in SeqIO.parse(handle, \"fasta\"):\n",
    "        iter += 1\n",
    "        if len(i.seq) in len_dict:\n",
    "            len_dict[len(i.seq)] += 1\n",
    "        else:\n",
    "            len_dict[len(i.seq)] = 1\n",
    "        if iter%10000 == 0:\n",
    "            print(\"currently at iteration: \" +str(iter), end='\\r')"
   ]
  },
  {
   "cell_type": "code",
   "execution_count": null,
   "metadata": {},
   "outputs": [
    {
     "name": "stdout",
     "output_type": "stream",
     "text": [
      "Length of the fasta file: 19699\n"
     ]
    }
   ],
   "source": [
    "from Bio import SeqIO\n",
    "\n",
    "fasta_length = sum(1 for _ in SeqIO.parse(fasta_path, \"fasta\"))\n",
    "print(f\"Length of the fasta file: {fasta_length}\")"
   ]
  },
  {
   "cell_type": "code",
   "execution_count": null,
   "metadata": {},
   "outputs": [
    {
     "data": {
      "image/png": "[encoded data removed]",
      "text/plain": [
       "<Figure size 1000x600 with 1 Axes>"
      ]
     },
     "metadata": {},
     "output_type": "display_data"
    },
    {
     "name": "stdout",
     "output_type": "stream",
     "text": [
      "Outliers: [ 4563  4544  3695  4753  4116  4834  4349  4911  4303  4486  5005  4624\n",
      "  5635  4377  4700  3926  3707  5537  4493  5202  4024  4128  3674  7081\n",
      "  4684  4707  5142  3708  4374  3907  4646  3957  6907  4022  5038  3859\n",
      "  5795  5430  3685  4967  8797  4061  5596  4074  3631  4391  5183  3664\n",
      "  4416  3623  5890  4243  4579  4158  4599  3801  4462  5121  4981 14507\n",
      "  6306  4861  4857  4069  4265  3661  4588  5058  5412  4012  4439  3972\n",
      "  5762  5335  4678  8923  3953  4427  3795  5207 32000  4516  4388  3843\n",
      "  4204  4168  8560  5088  5059  5654  4870  4471  3703  3753  4655  4314\n",
      "  3616]\n"
     ]
    }
   ],
   "source": [
    "import numpy as np\n",
    "\n",
    "import matplotlib.pyplot as plt\n",
    "\n",
    "# Convert keys to a numpy array\n",
    "keys_array = list(len_dict.keys())\n",
    "keys_array = np.array(keys_array)\n",
    "# Create a boxplot\n",
    "plt.figure(figsize=(10, 6))\n",
    "plt.boxplot(keys_array)\n",
    "plt.xlabel('Sequence Lengths')\n",
    "plt.title('Boxplot of Sequence Lengths')\n",
    "plt.show()\n",
    "\n",
    "# Calculate the outliers\n",
    "Q1 = np.percentile(keys_array, 25)\n",
    "Q3 = np.percentile(keys_array, 75)\n",
    "IQR = Q3 - Q1\n",
    "lower_bound = Q1 - 1.5 * IQR\n",
    "upper_bound = Q3 + 1.5 * IQR\n",
    "\n",
    "outliers = keys_array[(keys_array < lower_bound) | (keys_array > upper_bound)]\n",
    "print(\"Outliers:\", outliers)"
   ]
  },
  {
   "cell_type": "code",
   "execution_count": null,
   "metadata": {},
   "outputs": [
    {
     "data": {
      "image/png": "[encoded data removed]",
      "text/plain": [
       "<Figure size 1000x600 with 1 Axes>"
      ]
     },
     "metadata": {},
     "output_type": "display_data"
    }
   ],
   "source": [
    "import matplotlib.pyplot as plt\n",
    "\n",
    "# Extract keys and values from len_dict\n",
    "keys = [k for k in len_dict.keys() if k not in outliers]\n",
    "values = [len_dict[k] for k in keys]\n",
    "\n",
    "# Plot the data\n",
    "plt.figure(figsize=(10, 6))\n",
    "plt.bar(keys, values)\n",
    "plt.xlabel('Sequence Length')\n",
    "plt.ylabel('Frequency')\n",
    "plt.title('Distribution of Sequence Lengths')\n",
    "plt.show()"
   ]
  },
  {
   "cell_type": "code",
   "execution_count": null,
   "metadata": {},
   "outputs": [],
   "source": [
    "with open('./len_dict_human.pkl', 'wb') as f:\n",
    "    pickle.dump(len_dict, f)\n",
    "\n"
   ]
  },
  {
   "cell_type": "code",
   "execution_count": 45,
   "metadata": {},
   "outputs": [],
   "source": [
    "# old len_dict containing dict of entire database\n",
    "#pickle.load(open('./len_dict.pkl', 'rb'))"
   ]
  },
  {
   "cell_type": "code",
   "execution_count": null,
   "metadata": {},
   "outputs": [],
   "source": []
  }
 ],
 "metadata": {
  "kernelspec": {
   "display_name": "cs224w",
   "language": "python",
   "name": "python3"
  },
  "language_info": {
   "codemirror_mode": {
    "name": "ipython",
    "version": 3
   },
   "file_extension": ".py",
   "mimetype": "text/x-python",
   "name": "python",
   "nbconvert_exporter": "python",
   "pygments_lexer": "ipython3",
   "version": "3.10.15"
  }
 },
 "nbformat": 4,
 "nbformat_minor": 2
}
