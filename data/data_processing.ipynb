{
 "cells": [
  {
   "cell_type": "code",
   "execution_count": null,
   "metadata": {},
   "outputs": [
    {
     "data": {
      "application/vnd.jupyter.widget-view+json": {
       "model_id": "6226b2381309485ab74e01823768b15b",
       "version_major": 2,
       "version_minor": 0
      },
      "text/plain": [
       "VBox(children=(HTML(value='<center> <img\\nsrc=https://huggingface.co/front/assets/huggingface_logo-noborder.sv…"
      ]
     },
     "metadata": {},
     "output_type": "display_data"
    }
   ],
   "source": [
    "import pandas as pd\n",
    "import numpy as np\n",
    "import torch\n",
    "import os \n",
    "import sys\n",
    "from Bio import SeqIO\n",
    "from esm.models.esm3 import ESM3\n",
    "from esm.sdk.api import ESMProtein, SamplingConfig\n",
    "from esm.utils.constants.models import ESM3_OPEN_SMALL\n",
    "from torch_geometric.data import Dataset\n",
    "from tqdm import tqdm\n",
    "from huggingface_hub import login\n",
    "import torch, gc\n",
    "\n",
    "login()\n",
    "\n",
    "class StringDB_Dataset(Dataset):\n",
    "    # esm_model must end in .pt for local model.\n",
    "    def __init__(self,data_path,fasta_path,esm_model='ESM3_OPEN_SMALL'):\n",
    "        self.data_path = data_path\n",
    "        self.fasta_path = fasta_path\n",
    "        self.esm_model = esm_model\n",
    "        self.data_cols = self.get_column_names()\n",
    "        '''\n",
    "        self.data = self.data.dropna()\n",
    "        self.data = self.data.reset_index(drop=True)\n",
    "        self.data = self.data.drop_duplicates()\n",
    "        self.data = self.data.reset_index(drop=True)\n",
    "        self.data = self.data.drop(columns=['Unnamed: 0'])\n",
    "        '''\n",
    "    \n",
    "    def get_column_names(self):\n",
    "        if os.path.exists(self.data_path):\n",
    "            with open(self.data_path) as f:\n",
    "                return f.readline().strip().split('\\t')\n",
    "        else:\n",
    "            Exception('File not found, check filepath')\n",
    "\n",
    "    \n",
    "    def get_esm_embeddings(self,out_dir):\n",
    "        client = ESM3.from_pretrained(self.esm_model)\n",
    "        with open(self.fasta_path) as handle:\n",
    "            iter = 0\n",
    "            for record in tqdm(SeqIO.parse(handle, \"fasta\")):\n",
    "                label = record.id\n",
    "                if not os.path.exists(out_dir):\n",
    "                    os.makedirs(out_dir)\n",
    "                output_file = os.path.join(out_dir,f\"{label}.pt\")\n",
    "                protein = ESMProtein(sequence=(str(record.seq)))\n",
    "                protein_tensor = client.encode(protein)\n",
    "                output = client.forward_and_sample(protein_tensor, SamplingConfig(return_mean_embedding=True))\n",
    "                result = {\"label\": record.id, \"embeddings\": output.mean_embedding}\n",
    "                if iter % 50 ==0:\n",
    "                    gc.collect()\n",
    "                    torch.cuda.empty_cache()\n",
    "                iter+=1\n",
    "\n",
    "                torch.save(result,output_file)\n",
    "\n",
    "\n",
    "    def load_data(self,data_path):\n",
    "        if os.path.exists(data_path):\n",
    "            data = pd.read_csv(data_path)\n",
    "            return data"
   ]
  },
  {
   "cell_type": "code",
   "execution_count": null,
   "metadata": {},
   "outputs": [
    {
     "data": {
      "application/vnd.jupyter.widget-view+json": {
       "model_id": "87d4402ae87b4ee398a939a98813973c",
       "version_major": 2,
       "version_minor": 0
      },
      "text/plain": [
       "Fetching 22 files:   0%|          | 0/22 [00:00<?, ?it/s]"
      ]
     },
     "metadata": {},
     "output_type": "display_data"
    },
    {
     "name": "stderr",
     "output_type": "stream",
     "text": [
      "/home/cjiang/miniconda3/envs/cs224w/lib/python3.10/site-packages/esm/pretrained.py:68: FutureWarning: You are using `torch.load` with `weights_only=False` (the current default value), which uses the default pickle module implicitly. It is possible to construct malicious pickle data which will execute arbitrary code during unpickling (See https://github.com/pytorch/pytorch/blob/main/SECURITY.md#untrusted-models for more details). In a future release, the default value for `weights_only` will be flipped to `True`. This limits the functions that could be executed during unpickling. Arbitrary objects will no longer be allowed to be loaded via this mode unless they are explicitly allowlisted by the user via `torch.serialization.add_safe_globals`. We recommend you start setting `weights_only=True` for any use case where you don't have full control of the loaded file. Please open an issue on GitHub for any issues related to this experimental feature.\n",
      "  state_dict = torch.load(\n",
      "2495it [04:02, 12.42it/s]"
     ]
    }
   ],
   "source": [
    "path = '/mnt/d/data/stitchdb.txt'\n",
    "fasta_path = '/mnt/d/data/stringdb_seq.fa'\n",
    "local_model = '/mnt/d/data/esm3_sm_open_v1.pt'\n",
    "out_dir = '/mnt/d/data/stringdb_embeddings'\n",
    "data = StringDB_Dataset(path,fasta_path,esm_model='esm3_sm_open_v1')\n",
    "data.get_esm_embeddings(out_dir)"
   ]
  },
  {
   "cell_type": "code",
   "execution_count": null,
   "metadata": {},
   "outputs": [
    {
     "name": "stdout",
     "output_type": "stream",
     "text": [
      "chemical\tprotein\texperimental_direct\texperimental_transferred\tprediction_direct\tprediction_transferred\tdatabase_direct\tdatabase_transferred\ttextmining_direct\ttextmining_transferred\tcombined_score\n",
      "CIDm91758680\t190486.XAC0787\t0\t0\t0\t0\t0\t0\t0\t161\t161\n",
      "CIDm91758680\t190486.XAC0788\t0\t0\t0\t0\t0\t0\t0\t187\t187\n",
      "CIDm91758680\t190486.XAC1728\t0\t0\t0\t0\t0\t0\t0\t161\t161\n",
      "CIDm91758680\t190486.XAC1855\t0\t0\t0\t0\t0\t0\t0\t210\t210\n",
      "CIDm91758680\t190486.XAC2361\t0\t0\t0\t0\t0\t0\t0\t161\t161\n",
      "CIDm91758680\t190486.XAC2462\t0\t0\t0\t0\t0\t0\t0\t173\t173\n",
      "CIDm91758680\t190486.XAC2928\t0\t0\t0\t0\t0\t0\t0\t161\t161\n",
      "CIDm91758680\t190486.XAC3041\t0\t0\t0\t0\t0\t0\t0\t161\t161\n",
      "CIDm91758680\t190486.XAC3368\t0\t0\t0\t0\t0\t0\t0\t161\t161\n"
     ]
    }
   ],
   "source": [
    "with open(path, 'r') as file:\n",
    "    for _ in range(10):\n",
    "        print(file.readline().strip())"
   ]
  },
  {
   "cell_type": "code",
   "execution_count": null,
   "metadata": {},
   "outputs": [
    {
     "name": "stdout",
     "output_type": "stream",
     "text": [
      "protein1 protein2 homology experiments experiments_transferred database database_transferred textmining textmining_transferred combined_score\n",
      "23.BEL05_00025 23.BEL05_06890 0 0 738 0 194 0 0 779\n",
      "23.BEL05_00025 23.BEL05_19855 0 0 264 0 0 0 0 264\n",
      "23.BEL05_00025 23.BEL05_17340 0 0 0 0 134 0 64 154\n",
      "23.BEL05_00025 23.BEL05_06420 0 0 597 0 194 0 66 670\n",
      "23.BEL05_00030 23.BEL05_09555 0 0 208 0 0 0 0 208\n",
      "23.BEL05_00030 23.BEL05_04075 0 0 317 0 0 0 0 317\n",
      "23.BEL05_00030 23.BEL05_05440 0 0 270 0 0 0 0 270\n",
      "23.BEL05_00035 23.BEL05_00165 0 0 49 0 229 0 0 235\n",
      "23.BEL05_00035 23.BEL05_09055 0 0 47 0 339 0 0 343\n"
     ]
    }
   ],
   "source": [
    "path = '/mnt/d/data/stringdb.txt'\n",
    "with open(path, 'r') as file:\n",
    "    for _ in range(10):\n",
    "        print(file.readline().strip())"
   ]
  },
  {
   "cell_type": "code",
   "execution_count": null,
   "metadata": {},
   "outputs": [
    {
     "name": "stdout",
     "output_type": "stream",
     "text": [
      "MSLPRCNSYYNATINQETDFDQLQGEVDVDVVIIGGGFTGVATAVELSEQGYRVAIVEANKIGWGATGRNGGQVTGSLSGDGAMTKQLRNQIGSEAEAFVWNLRWRGHDIIKNRVAKYGIDCDLKFGHLHTAYKFAHMGEMQKTFDEGVNRGMGDELILLSKADIPQYLDTPLYHGGLLNKRNMHLHSVNLCIGEARAAVGNGAQIFEHSSVLDIIEGDRPVVKTAKGQITANSVVLAGNAYHKLARKKLSGLLFPASLGNCATVKLDSALAKQLNPHDVAVYDSRFVLDYYRMTADHRLMFGGGTNYSGRDSKDVAAELRPALERTFPQLKGVEIEFDWTGMAGIVVNRIPQLGKVSPNVFYCQGYSGHGVATSHIMGEIMAAAVVGQHKEFDLFANMKQIRLPVGEWLGNQGMAIGMLYYRMMENFR\n",
      "<class 'str'>\n",
      "ID: 23.BEL05_00035\n",
      "Name: 23.BEL05_00035\n",
      "Description: 23.BEL05_00035\n",
      "Number of features: 0\n",
      "Seq('MNLTIIVGVIAVLYVSLLFLLAWGAERWFGGITKKIQTWIYGLSLAVYCSSWSF...LVK')\n"
     ]
    }
   ],
   "source": [
    "with open(fasta_path) as handle:\n",
    "    fa = next(SeqIO.parse(handle, \"fasta\"))\n",
    "    print(fa.seq)\n",
    "    print(type(str(fa.seq)))\n",
    "    print(next(SeqIO.parse(handle, \"fasta\")))"
   ]
  },
  {
   "cell_type": "code",
   "execution_count": null,
   "metadata": {},
   "outputs": [],
   "source": []
  }
 ],
 "metadata": {
  "kernelspec": {
   "display_name": "cs224w",
   "language": "python",
   "name": "python3"
  },
  "language_info": {
   "codemirror_mode": {
    "name": "ipython",
    "version": 3
   },
   "file_extension": ".py",
   "mimetype": "text/x-python",
   "name": "python",
   "nbconvert_exporter": "python",
   "pygments_lexer": "ipython3",
   "version": "3.10.15"
  }
 },
 "nbformat": 4,
 "nbformat_minor": 2
}
